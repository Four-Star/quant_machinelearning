{
 "cells": [
  {
   "cell_type": "code",
   "execution_count": 2,
   "id": "dcc54b16-afb5-465e-91db-d2dc4b081b55",
   "metadata": {},
   "outputs": [
    {
     "name": "stdout",
     "output_type": "stream",
     "text": [
      "데이터가 BTCUSDT_1m_data.csv 파일로 저장되었습니다.\n"
     ]
    }
   ],
   "source": [
    "from binance.client import Client\n",
    "import pandas as pd\n",
    "\n",
    "# API 키와 비밀키를 입력합니다. (데이터 조회만 하는 경우 빈 문자열도 가능합니다.)\n",
    "api_key = \"YOUR_API_KEY\"\n",
    "api_secret = \"YOUR_API_SECRET\"\n",
    "\n",
    "client = Client(api_key, api_secret)\n",
    "\n",
    "# 1분 간격의 캔들 데이터를 2023년 1월 1일부터 가져옵니다.\n",
    "klines = client.get_historical_klines(\"BTCUSDT\", Client.KLINE_INTERVAL_1MINUTE, \"1 Jan, 2022\")\n",
    "\n",
    "# 각 캔들의 정보를 담을 열 이름을 지정합니다.\n",
    "columns = ['open_time', 'open', 'high', 'low', 'close', 'volume', \n",
    "           'close_time', 'quote_asset_volume', 'number_of_trades', \n",
    "           'taker_buy_base_asset_volume', 'taker_buy_quote_asset_volume', 'ignore']\n",
    "\n",
    "# 데이터를 DataFrame으로 변환\n",
    "df = pd.DataFrame(klines, columns=columns)\n",
    "\n",
    "# open_time과 close_time을 datetime 형식으로 변환\n",
    "df['open_time'] = pd.to_datetime(df['open_time'], unit='ms')\n",
    "df['close_time'] = pd.to_datetime(df['close_time'], unit='ms')\n",
    "\n",
    "# 인덱스를 open_time으로 설정\n",
    "df.set_index('open_time', inplace=True)\n",
    "\n",
    "# CSV 파일로 저장 (파일명은 원하는 대로 수정 가능)\n",
    "csv_filename = \"BTCUSDT_1m_data.csv\"\n",
    "df.to_csv(csv_filename)\n",
    "\n",
    "print(f\"데이터가 {csv_filename} 파일로 저장되었습니다.\")\n"
   ]
  },
  {
   "cell_type": "code",
   "execution_count": 1,
   "id": "d8c16ed2-394d-4c2a-b109-f09094fd5fd5",
   "metadata": {},
   "outputs": [
    {
     "name": "stdout",
     "output_type": "stream",
     "text": [
      "데이터가 test.csv 파일로 저장되었습니다.\n"
     ]
    }
   ],
   "source": [
    "from binance.client import Client\n",
    "import pandas as pd\n",
    "\n",
    "# API 키와 비밀키를 입력합니다. (데이터 조회만 하는 경우 빈 문자열도 가능합니다.)\n",
    "api_key = \"YOUR_API_KEY\"\n",
    "api_secret = \"YOUR_API_SECRET\"\n",
    "\n",
    "client = Client(api_key, api_secret)\n",
    "\n",
    "# 1분 간격의 캔들 데이터를 2023년 1월 1일부터 가져옵니다.\n",
    "klines = client.get_historical_klines(\"BTCUSDT\", Client.KLINE_INTERVAL_1MINUTE, \"7 Mar, 2025\")\n",
    "\n",
    "# 각 캔들의 정보를 담을 열 이름을 지정합니다.\n",
    "columns = ['open_time', 'open', 'high', 'low', 'close', 'volume', \n",
    "           'close_time', 'quote_asset_volume', 'number_of_trades', \n",
    "           'taker_buy_base_asset_volume', 'taker_buy_quote_asset_volume', 'ignore']\n",
    "\n",
    "# 데이터를 DataFrame으로 변환\n",
    "df = pd.DataFrame(klines, columns=columns)\n",
    "\n",
    "# open_time과 close_time을 datetime 형식으로 변환\n",
    "df['open_time'] = pd.to_datetime(df['open_time'], unit='ms')\n",
    "df['close_time'] = pd.to_datetime(df['close_time'], unit='ms')\n",
    "\n",
    "# 인덱스를 open_time으로 설정\n",
    "df.set_index('open_time', inplace=True)\n",
    "\n",
    "# CSV 파일로 저장 (파일명은 원하는 대로 수정 가능)\n",
    "csv_filename = \"test.csv\"\n",
    "df.to_csv(csv_filename)\n",
    "\n",
    "print(f\"데이터가 {csv_filename} 파일로 저장되었습니다.\")"
   ]
  },
  {
   "cell_type": "code",
   "execution_count": 5,
   "id": "cdc866e9-aabf-4b47-9128-784733a43f98",
   "metadata": {},
   "outputs": [],
   "source": [
    "from binance.client import Client\n",
    "import pandas as pd\n",
    "\n",
    "def fetch_binance_data_by_weeks(symbol=\"BTCUSDT\", interval=Client.KLINE_INTERVAL_1MINUTE, weeks=1, csv_filename=\"recent_week.csv\", api_key=\"\", api_secret=\"\"):\n",
    "    \"\"\"\n",
    "    Binance에서 특정 심볼의 최근 N주일 데이터를 가져오는 함수\n",
    "    :param symbol: 조회할 암호화폐 심볼 (예: \"BTCUSDT\")\n",
    "    :param interval: 캔들 차트 간격 (예: Client.KLINE_INTERVAL_1MINUTE)\n",
    "    :param weeks: 가져올 주 수 (기본값: 1주일)\n",
    "    :param csv_filename: 저장할 CSV 파일명 (예: \"recent_week.csv\")\n",
    "    :param api_key: Binance API 키 (필요시 입력)\n",
    "    :param api_secret: Binance API 비밀 키 (필요시 입력)\n",
    "    \"\"\"\n",
    "    # Binance 클라이언트 생성\n",
    "    client = Client(api_key, api_secret)\n",
    "\n",
    "    # 최근 N주일 데이터 가져오기\n",
    "    start_str = f\"{weeks} week ago UTC\"\n",
    "    print(f\"📡 {symbol}의 데이터를 {interval} 간격으로 {start_str}부터 가져오는 중...\")\n",
    "\n",
    "    klines = client.get_historical_klines(symbol, interval, start_str)\n",
    "\n",
    "    # 열 이름 지정\n",
    "    columns = ['open_time', 'open', 'high', 'low', 'close', 'volume', \n",
    "               'close_time', 'quote_asset_volume', 'number_of_trades', \n",
    "               'taker_buy_base_asset_volume', 'taker_buy_quote_asset_volume', 'ignore']\n",
    "\n",
    "    # 데이터프레임으로 변환\n",
    "    df = pd.DataFrame(klines, columns=columns)\n",
    "\n",
    "    # open_time과 close_time을 datetime 형식으로 변환\n",
    "    df['open_time'] = pd.to_datetime(df['open_time'], unit='ms')\n",
    "    df['close_time'] = pd.to_datetime(df['close_time'], unit='ms')\n",
    "\n",
    "    # 인덱스를 open_time으로 설정\n",
    "    df.set_index('open_time', inplace=True)\n",
    "\n",
    "    # CSV 파일로 저장\n",
    "    df.to_csv(csv_filename)\n",
    "\n",
    "    print(f\"✅ {len(df)}개의 데이터가 '{csv_filename}' 파일로 저장되었습니다.\")\n",
    "\n",
    "    # 마지막 open_time 반환 (이전 주 데이터를 가져오는 데 사용)\n",
    "    return df, df.index[0]\n",
    "\n",
    "\n",
    "def fetch_previous_week_data(symbol=\"BTCUSDT\", interval=Client.KLINE_INTERVAL_1MINUTE, weeks=1, previous_filename=\"previous_week.csv\", api_key=\"\", api_secret=\"\"):\n",
    "    \"\"\"\n",
    "    최근 1주일 데이터와 그 이전 1주일 데이터를 가져오는 함수\n",
    "    \"\"\"\n",
    "    # 최근 1주일 데이터 가져오기\n",
    "    df_recent, last_open_time = fetch_binance_data_by_weeks(symbol, interval, weeks, \"recent_week.csv\", api_key, api_secret)\n",
    "\n",
    "    print(f\"📡 {symbol}의 {last_open_time} 이전 데이터 {weeks}주일치 가져오는 중...\")\n",
    "\n",
    "    # 그 이전 1주일 데이터 가져오기\n",
    "    df_previous, _ = fetch_binance_data_by_weeks(symbol, interval, weeks, previous_filename, api_key, api_secret)\n",
    "\n",
    "    return df_recent, df_previous\n"
   ]
  },
  {
   "cell_type": "code",
   "execution_count": 6,
   "id": "cba98889-4c63-4207-882a-1ff797d8d9eb",
   "metadata": {},
   "outputs": [
    {
     "name": "stdout",
     "output_type": "stream",
     "text": [
      "📡 BTCUSDT의 데이터를 1m 간격으로 1 week ago UTC부터 가져오는 중...\n",
      "✅ 10080개의 데이터가 'recent_week.csv' 파일로 저장되었습니다.\n",
      "📡 BTCUSDT의 2025-03-09 07:08:00 이전 데이터 1주일치 가져오는 중...\n",
      "📡 BTCUSDT의 데이터를 1m 간격으로 1 week ago UTC부터 가져오는 중...\n",
      "✅ 10080개의 데이터가 'previous_week.csv' 파일로 저장되었습니다.\n"
     ]
    }
   ],
   "source": [
    "df_recent, df_previous = fetch_previous_week_data(symbol=\"BTCUSDT\", interval=Client.KLINE_INTERVAL_1MINUTE)"
   ]
  },
  {
   "cell_type": "code",
   "execution_count": null,
   "id": "23ce786e-500c-4e3c-b7b5-eb65d27d2810",
   "metadata": {},
   "outputs": [],
   "source": []
  }
 ],
 "metadata": {
  "kernelspec": {
   "display_name": "Python 3 (ipykernel)",
   "language": "python",
   "name": "python3"
  },
  "language_info": {
   "codemirror_mode": {
    "name": "ipython",
    "version": 3
   },
   "file_extension": ".py",
   "mimetype": "text/x-python",
   "name": "python",
   "nbconvert_exporter": "python",
   "pygments_lexer": "ipython3",
   "version": "3.8.20"
  }
 },
 "nbformat": 4,
 "nbformat_minor": 5
}
